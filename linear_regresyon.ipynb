{
 "cells": [
  {
   "cell_type": "code",
   "execution_count": 1,
   "id": "f5720903",
   "metadata": {},
   "outputs": [],
   "source": [
    "import numpy as np\n",
    "import pandas as pd\n",
    "import statsmodels.api as sm\n",
    "from sklearn.linear_model import LinearRegression\n",
    "from sklearn import metrics\n",
    "import matplotlib.pyplot as plt"
   ]
  },
  {
   "cell_type": "code",
   "execution_count": 2,
   "id": "3394c90d",
   "metadata": {},
   "outputs": [],
   "source": [
    "yas = [20,21,22,24,25,25,\n",
    "       26,27,27,28,28,28,\n",
    "       29,30,31,31,32,33,\n",
    "       33,34,35,36]"
   ]
  },
  {
   "cell_type": "code",
   "execution_count": 3,
   "id": "a637e3d9",
   "metadata": {},
   "outputs": [],
   "source": [
    "gelir = [x**3/np.random.randint(2,4) for x in yas]"
   ]
  },
  {
   "cell_type": "code",
   "execution_count": 4,
   "id": "595f6e62",
   "metadata": {},
   "outputs": [],
   "source": [
    "df = pd.DataFrame({\"yas\":yas,\n",
    "                   \"gelir\":gelir})"
   ]
  },
  {
   "cell_type": "code",
   "execution_count": 5,
   "id": "fb7815e0",
   "metadata": {},
   "outputs": [
    {
     "data": {
      "text/html": [
       "<div>\n",
       "<style scoped>\n",
       "    .dataframe tbody tr th:only-of-type {\n",
       "        vertical-align: middle;\n",
       "    }\n",
       "\n",
       "    .dataframe tbody tr th {\n",
       "        vertical-align: top;\n",
       "    }\n",
       "\n",
       "    .dataframe thead th {\n",
       "        text-align: right;\n",
       "    }\n",
       "</style>\n",
       "<table border=\"1\" class=\"dataframe\">\n",
       "  <thead>\n",
       "    <tr style=\"text-align: right;\">\n",
       "      <th></th>\n",
       "      <th>yas</th>\n",
       "      <th>gelir</th>\n",
       "    </tr>\n",
       "  </thead>\n",
       "  <tbody>\n",
       "    <tr>\n",
       "      <th>0</th>\n",
       "      <td>20</td>\n",
       "      <td>4000.000000</td>\n",
       "    </tr>\n",
       "    <tr>\n",
       "      <th>1</th>\n",
       "      <td>21</td>\n",
       "      <td>3087.000000</td>\n",
       "    </tr>\n",
       "    <tr>\n",
       "      <th>2</th>\n",
       "      <td>22</td>\n",
       "      <td>3549.333333</td>\n",
       "    </tr>\n",
       "    <tr>\n",
       "      <th>3</th>\n",
       "      <td>24</td>\n",
       "      <td>6912.000000</td>\n",
       "    </tr>\n",
       "    <tr>\n",
       "      <th>4</th>\n",
       "      <td>25</td>\n",
       "      <td>5208.333333</td>\n",
       "    </tr>\n",
       "  </tbody>\n",
       "</table>\n",
       "</div>"
      ],
      "text/plain": [
       "   yas        gelir\n",
       "0   20  4000.000000\n",
       "1   21  3087.000000\n",
       "2   22  3549.333333\n",
       "3   24  6912.000000\n",
       "4   25  5208.333333"
      ]
     },
     "execution_count": 5,
     "metadata": {},
     "output_type": "execute_result"
    }
   ],
   "source": [
    "df.head()"
   ]
  },
  {
   "cell_type": "code",
   "execution_count": 7,
   "id": "4fa13402",
   "metadata": {},
   "outputs": [
    {
     "data": {
      "image/png": "[encoded data removed]",
      "text/plain": [
       "<Figure size 432x288 with 1 Axes>"
      ]
     },
     "metadata": {
      "needs_background": "light"
     },
     "output_type": "display_data"
    }
   ],
   "source": [
    "# veri gorsellestirme\n",
    "import matplotlib.pyplot as plt\n",
    "plt.scatter(df[[\"yas\"]], df[[\"gelir\"]])\n",
    "plt.title(\"Yaş - Gelir Dağılımı\")\n",
    "plt.xlabel(\"Yaş\")\n",
    "plt.ylabel(\"Gelir\")\n",
    "plt.show()"
   ]
  },
  {
   "cell_type": "code",
   "execution_count": 10,
   "id": "95d5b457",
   "metadata": {},
   "outputs": [
    {
     "data": {
      "text/html": [
       "<div>\n",
       "<style scoped>\n",
       "    .dataframe tbody tr th:only-of-type {\n",
       "        vertical-align: middle;\n",
       "    }\n",
       "\n",
       "    .dataframe tbody tr th {\n",
       "        vertical-align: top;\n",
       "    }\n",
       "\n",
       "    .dataframe thead th {\n",
       "        text-align: right;\n",
       "    }\n",
       "</style>\n",
       "<table border=\"1\" class=\"dataframe\">\n",
       "  <thead>\n",
       "    <tr style=\"text-align: right;\">\n",
       "      <th></th>\n",
       "      <th>yas</th>\n",
       "      <th>gelir</th>\n",
       "    </tr>\n",
       "  </thead>\n",
       "  <tbody>\n",
       "    <tr>\n",
       "      <th>yas</th>\n",
       "      <td>1.000000</td>\n",
       "      <td>0.910572</td>\n",
       "    </tr>\n",
       "    <tr>\n",
       "      <th>gelir</th>\n",
       "      <td>0.910572</td>\n",
       "      <td>1.000000</td>\n",
       "    </tr>\n",
       "  </tbody>\n",
       "</table>\n",
       "</div>"
      ],
      "text/plain": [
       "            yas     gelir\n",
       "yas    1.000000  0.910572\n",
       "gelir  0.910572  1.000000"
      ]
     },
     "execution_count": 10,
     "metadata": {},
     "output_type": "execute_result"
    }
   ],
   "source": [
    "df.corr()\n"
   ]
  },
  {
   "cell_type": "code",
   "execution_count": 17,
   "id": "bc89705c",
   "metadata": {},
   "outputs": [],
   "source": [
    "#  Statsmodels kütüphanesi üzerinden regresyon analizi yapacağız. \n",
    "# Bunun sebebi Statsmodels’in tek bir fonksiyonu ile modelin yorumlanmasına izin veren tabloyu verebilmesi. \n",
    "# Model yorumundan sonra ise Sklearn kütüphanesi ile makine öğrenmesini sağlayıp test edeceğiz.\n",
    "\n",
    "import statsmodels.api as sm\n",
    "\n",
    "x= df[\"yas\"]\n",
    "y_gercek= df[\"gelir\"]\n"
   ]
  },
  {
   "cell_type": "code",
   "execution_count": 18,
   "id": "e61d1749",
   "metadata": {},
   "outputs": [],
   "source": [
    "x = sm.add_constant(x)"
   ]
  },
  {
   "cell_type": "code",
   "execution_count": 19,
   "id": "294191dc",
   "metadata": {},
   "outputs": [],
   "source": [
    "model = sm.OLS(y_gercek,x).fit()"
   ]
  },
  {
   "cell_type": "code",
   "execution_count": 21,
   "id": "5f342136",
   "metadata": {},
   "outputs": [
    {
     "name": "stdout",
     "output_type": "stream",
     "text": [
      "                            OLS Regression Results                            \n",
      "==============================================================================\n",
      "Dep. Variable:                  gelir   R-squared:                       0.829\n",
      "Model:                            OLS   Adj. R-squared:                  0.821\n",
      "Method:                 Least Squares   F-statistic:                     97.06\n",
      "Date:                Mon, 13 Feb 2023   Prob (F-statistic):           4.07e-09\n",
      "Time:                        23:12:08   Log-Likelihood:                -201.93\n",
      "No. Observations:                  22   AIC:                             407.9\n",
      "Df Residuals:                      20   BIC:                             410.0\n",
      "Df Model:                           1                                         \n",
      "Covariance Type:            nonrobust                                         \n",
      "==============================================================================\n",
      "                 coef    std err          t      P>|t|      [0.025      0.975]\n",
      "------------------------------------------------------------------------------\n",
      "const      -2.262e+04   3434.397     -6.586      0.000   -2.98e+04   -1.55e+04\n",
      "yas         1177.0308    119.475      9.852      0.000     927.810    1426.251\n",
      "==============================================================================\n",
      "Omnibus:                        2.490   Durbin-Watson:                   1.616\n",
      "Prob(Omnibus):                  0.288   Jarque-Bera (JB):                1.772\n",
      "Skew:                          -0.509   Prob(JB):                        0.412\n",
      "Kurtosis:                       2.053   Cond. No.                         189.\n",
      "==============================================================================\n",
      "\n",
      "Notes:\n",
      "[1] Standard Errors assume that the covariance matrix of the errors is correctly specified.\n"
     ]
    }
   ],
   "source": [
    "# modelin yorumlanması\n",
    "\n",
    "print(model.summary())"
   ]
  },
  {
   "cell_type": "code",
   "execution_count": 22,
   "id": "933239dc",
   "metadata": {},
   "outputs": [
    {
     "data": {
      "image/png": "[encoded data removed]",
      "text/plain": [
       "<Figure size 864x576 with 1 Axes>"
      ]
     },
     "metadata": {
      "needs_background": "light"
     },
     "output_type": "display_data"
    }
   ],
   "source": [
    "# model sonucunda olusan regresyon dogrusunu scatter plot ile cizdirelim.\n",
    "\n",
    "fig, ax = plt.subplots(figsize=(12, 8))\n",
    "fig = sm.graphics.plot_ccpr(model,\"yas\" ,ax=ax)\n",
    "plt.title(\"Basit Doğrusal Regresyon ile Yaş - Gelir Tahmini\")\n",
    "plt.xlabel(\"Yaş(X): Bağımlı Değişken\")\n",
    "plt.ylabel(\"Gelir(Y): Bağımsız Değişken\")\n",
    "plt.show()"
   ]
  },
  {
   "cell_type": "code",
   "execution_count": 24,
   "id": "05d85fbb",
   "metadata": {},
   "outputs": [
    {
     "name": "stdout",
     "output_type": "stream",
     "text": [
      "    Gercek_Degerler  Tahmin_Degerler  tahminleme_hatalari\n",
      "0       4000.000000       921.589642          3078.410358\n",
      "1       3087.000000      2098.620423           988.379577\n",
      "2       3549.333333      3275.651204           273.682129\n",
      "3       6912.000000      5629.712767          1282.287233\n",
      "4       5208.333333      6806.743548         -1598.410215\n",
      "5       7812.500000      6806.743548          1005.756452\n",
      "6       5858.666667      7983.774330         -2125.107663\n",
      "7       9841.500000      9160.805111           680.694889\n",
      "8       9841.500000      9160.805111           680.694889\n",
      "9      10976.000000     10337.835892           638.164108\n",
      "10      7317.333333     10337.835892         -3020.502559\n",
      "11      7317.333333     10337.835892         -3020.502559\n",
      "12     12194.500000     11514.866674           679.633326\n",
      "13     13500.000000     12691.897455           808.102545\n",
      "14      9930.333333     13868.928237         -3938.594903\n",
      "15      9930.333333     13868.928237         -3938.594903\n",
      "16     16384.000000     15045.959018          1338.040982\n",
      "17     17968.500000     16222.989799          1745.510201\n",
      "18     11979.000000     16222.989799         -4243.989799\n",
      "19     19652.000000     17400.020581          2251.979419\n",
      "20     21437.500000     18577.051362          2860.448638\n",
      "21     23328.000000     19754.082143          3573.917857\n"
     ]
    }
   ],
   "source": [
    "# karsılastırma\n",
    "\n",
    "y_pred_stat = model.predict(x)\n",
    "\n",
    "\n",
    "karsilastirma = pd.DataFrame({'Gercek_Degerler': y_gercek, 'Tahmin_Degerler': y_pred_stat}).sort_index()\n",
    "\n",
    "karsilastirma[\"tahminleme_hatalari\"] = karsilastirma.Gercek_Degerler - karsilastirma.Tahmin_Degerler\n",
    "\n",
    "print(karsilastirma)"
   ]
  },
  {
   "cell_type": "code",
   "execution_count": 25,
   "id": "72e12a0c",
   "metadata": {},
   "outputs": [],
   "source": [
    "lr= LinearRegression()\n"
   ]
  },
  {
   "cell_type": "code",
   "execution_count": 27,
   "id": "eca46372",
   "metadata": {},
   "outputs": [
    {
     "data": {
      "text/plain": [
       "LinearRegression()"
      ]
     },
     "execution_count": 27,
     "metadata": {},
     "output_type": "execute_result"
    }
   ],
   "source": [
    "lr.fit(x,y_gercek)"
   ]
  },
  {
   "cell_type": "code",
   "execution_count": 28,
   "id": "58bcbb2a",
   "metadata": {},
   "outputs": [],
   "source": [
    "y_pred_sklearn = lr.predict(x)"
   ]
  },
  {
   "cell_type": "code",
   "execution_count": 29,
   "id": "da8a44b0",
   "metadata": {},
   "outputs": [],
   "source": [
    "karsilastirma = pd.DataFrame({'Gercek_Degerler': y_gercek, 'Tahmin_Degerler': y_pred_sklearn}).sort_index()"
   ]
  },
  {
   "cell_type": "code",
   "execution_count": 30,
   "id": "7311cce9",
   "metadata": {},
   "outputs": [
    {
     "name": "stdout",
     "output_type": "stream",
     "text": [
      "    Gercek_Degerler  Tahmin_Degerler  tahminleme_hatalari\n",
      "0       4000.000000       921.589642          3078.410358\n",
      "1       3087.000000      2098.620423           988.379577\n",
      "2       3549.333333      3275.651204           273.682129\n",
      "3       6912.000000      5629.712767          1282.287233\n",
      "4       5208.333333      6806.743548         -1598.410215\n",
      "5       7812.500000      6806.743548          1005.756452\n",
      "6       5858.666667      7983.774330         -2125.107663\n",
      "7       9841.500000      9160.805111           680.694889\n",
      "8       9841.500000      9160.805111           680.694889\n",
      "9      10976.000000     10337.835892           638.164108\n",
      "10      7317.333333     10337.835892         -3020.502559\n",
      "11      7317.333333     10337.835892         -3020.502559\n",
      "12     12194.500000     11514.866674           679.633326\n",
      "13     13500.000000     12691.897455           808.102545\n",
      "14      9930.333333     13868.928237         -3938.594903\n",
      "15      9930.333333     13868.928237         -3938.594903\n",
      "16     16384.000000     15045.959018          1338.040982\n",
      "17     17968.500000     16222.989799          1745.510201\n",
      "18     11979.000000     16222.989799         -4243.989799\n",
      "19     19652.000000     17400.020581          2251.979419\n",
      "20     21437.500000     18577.051362          2860.448638\n",
      "21     23328.000000     19754.082143          3573.917857\n"
     ]
    }
   ],
   "source": [
    "karsilastirma[\"tahminleme_hatalari\"] = karsilastirma.Gercek_Degerler - karsilastirma.Tahmin_Degerler\n",
    "print(karsilastirma)"
   ]
  },
  {
   "cell_type": "code",
   "execution_count": 31,
   "id": "ffadb8e2",
   "metadata": {},
   "outputs": [
    {
     "name": "stdout",
     "output_type": "stream",
     "text": [
      "coefficients  [   0.         1177.03078135]\n",
      "intercept -22619.025985182005\n",
      "r2 score 0.8291414728727098\n",
      "Mean Squared Error: 5493231.501741078\n",
      "Root Mean Squared Error: 2343.7643869939398\n"
     ]
    }
   ],
   "source": [
    "print(\"coefficients \",lr.coef_)  # katsayı\n",
    "print(\"intercept\",lr.intercept_) # Kesim noktası\n",
    "print(\"r2 score\",metrics.r2_score(y_gercek,y_pred_sklearn))\n",
    "print('Mean Squared Error:', metrics.mean_squared_error(y_gercek, y_pred_sklearn))\n",
    "print('Root Mean Squared Error:', np.sqrt(metrics.mean_squared_error(y_gercek, y_pred_sklearn)))"
   ]
  },
  {
   "cell_type": "code",
   "execution_count": null,
   "id": "f93e33c9",
   "metadata": {},
   "outputs": [],
   "source": []
  }
 ],
 "metadata": {
  "kernelspec": {
   "display_name": "Python 3 (ipykernel)",
   "language": "python",
   "name": "python3"
  },
  "language_info": {
   "codemirror_mode": {
    "name": "ipython",
    "version": 3
   },
   "file_extension": ".py",
   "mimetype": "text/x-python",
   "name": "python",
   "nbconvert_exporter": "python",
   "pygments_lexer": "ipython3",
   "version": "3.9.12"
  }
 },
 "nbformat": 4,
 "nbformat_minor": 5
}
